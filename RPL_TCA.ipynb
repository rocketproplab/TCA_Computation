{
 "cells": [
  {
   "cell_type": "markdown",
   "metadata": {},
   "source": [
    "# TCA Calculations"
   ]
  },
  {
   "cell_type": "markdown",
   "metadata": {},
   "source": [
    "### Import libraries"
   ]
  },
  {
   "cell_type": "code",
   "execution_count": 31,
   "metadata": {
    "collapsed": true
   },
   "outputs": [],
   "source": [
    "import numpy as np\n",
    "import math\n",
    "from matplotlib.pyplot import *"
   ]
  },
  {
   "cell_type": "markdown",
   "metadata": {},
   "source": [
    "### Define Constants"
   ]
  },
  {
   "cell_type": "code",
   "execution_count": null,
   "metadata": {
    "collapsed": true
   },
   "outputs": [],
   "source": [
    "# Constants\n",
    "g_earth =  32.1740;   # units - ft/seconds^2\n",
    "R = 1545.348963;      # universal gas constant; units - ft*lbf/R*lb-mol\n",
    "atm_to_psi = 14.6959; # units - psi/atm\n",
    "Factor_of_Safety = 1.4;"
   ]
  },
  {
   "cell_type": "code",
   "execution_count": 33,
   "metadata": {
    "collapsed": false
   },
   "outputs": [],
   "source": [
    "#Thrust Chamber Design Parameters\n",
    "# Using P_exit = 1, and plots from\n",
    "# http://www.braeunig.us/space/comb-OM.htm P_Chamber, T_Chamber, y, Gas_Molecular_Weight can be extracted\n",
    "#     after choosing the mixture ratio.\n",
    "Characteristic_Length = 40    # units - inches; interpolated use table 4-1 from Huzel+Huang Modern Engineering for Design of LRES \n",
    "Thrust = 1000                 # units - pounds\n",
    "T_Chamber_C = 3089            # Chamber temperature; units - Celcius\n",
    "P_Chamber = 1000                # Chamber pressure; units - atm\n",
    "P_Exit = 6.62                 # Exit pressure - sea level; units - atm\n",
    "P_Ambient = 13.64             # Ambient pressure - sea level; units - atm\n",
    "Mixture_Ratio = 2.77          # O/F mass ratio; unitless\n",
    "Gas_Molecular_Weight = 20.158 # units - amu\n",
    "y = 1.2161                    # Ratio of Specific Heats - unitless\n",
    "Working_Stress = 80000        # units - psi; yield stress of inconel walling\n"
   ]
  },
  {
   "cell_type": "code",
   "execution_count": 34,
   "metadata": {
    "collapsed": false
   },
   "outputs": [],
   "source": [
    "## Adiabatic Flame Temperature - Chamber Temperature; CONVERSIONS\n",
    "T_Chamber_K = T_Chamber_C + 273.15; # units - Kelvin\n",
    "T_Chamber_F = T_Chamber_C * 1.8 + 32; # units - Fahrenheit\n",
    "T_Chamber_R = T_Chamber_F + 459.67; # units - Rankine\n"
   ]
  },
  {
   "cell_type": "code",
   "execution_count": 35,
   "metadata": {
    "collapsed": false
   },
   "outputs": [],
   "source": [
    "def pressureAtAltitude(h):\n",
    "#    Pb, Tb, Lb, hb\n",
    "    Rb = 89494.596\n",
    "    g = 32.1705\n",
    "    M = 28.9644\n",
    "    if h < 36089:\n",
    "        Pb = 101325.00*0.000145038\n",
    "        Tb = 288.15\n",
    "        Lb = -0.0019812\n",
    "        hb = 0\n",
    "    elif h < 65617:\n",
    "        Pb = 22632.10*0.000145038\n",
    "        Tb = 216.65\n",
    "        hb = 36089\n",
    "        return Pb*math.exp(-g*M*(h - hb)/(Rb*Tb))\n",
    "    elif h < 104987:\n",
    "        Pb = 5474.89*0.000145038\n",
    "        Tb = 216.65\n",
    "        Lb = 0.0003048\n",
    "        hb = 65617\n",
    "    elif h < 154199:\n",
    "        Pb = 868.02*0.000145038\n",
    "        Tb = 216.65\n",
    "        Lb = 0.00085344\n",
    "        hb = 104987\n",
    "    elif h < 167323:\n",
    "        Pb = 110.91*0.000145038\n",
    "        Tb = 270.65\n",
    "        hb = 154199\n",
    "        return Pb*math.exp(-g*M*(h - hb)/(Rb*Tb))\n",
    "    elif h < 232940:\n",
    "        Pb = 66.94*0.000145038\n",
    "        Tb = 270.65\n",
    "        Lb = -0.00085344\n",
    "        hb = 167323\n",
    "    else:\n",
    "        Pb = 3.96*0.000145038\n",
    "        Tb = 214.65\n",
    "        Lb = -0.0006096\n",
    "        hb = 232940\n",
    "    return Pb*(Tb/(Tb+Lb*(h - hb)))**(g*M/(Rb*Lb))\n",
    "        "
   ]
  },
  {
   "cell_type": "code",
   "execution_count": 36,
   "metadata": {
    "collapsed": false
   },
   "outputs": [
    {
     "data": {
      "image/png": "[encoded data removed]",
      "text/plain": [
       "<matplotlib.figure.Figure at 0x1e05bafa080>"
      ]
     },
     "metadata": {},
     "output_type": "display_data"
    }
   ],
   "source": [
    "# Assuming constant burn, Below is Isp vs Altitude\n",
    "figure(1)\n",
    "subplot(111)\n",
    "for h in range(2100, 45000, 100):\n",
    "    P_Ambient = pressureAtAltitude(h)\n",
    "    Expansion_Ratio = (2/(y+1))**(1/(y-1)) * (P_Chamber/P_Exit)**(1/y) / ( (y+1)/(y-1) * (1 - (P_Exit/P_Chamber)**(1-1/y)) )**.5 # unitless\n",
    "    c_star = (g_earth*y*R*T_Chamber_R/Gas_Molecular_Weight)**(.5)/(y*((2/(y+1))**((y+1)/(y-1)))**.5) # ft/second\n",
    "    lamda = .985\n",
    "    Cf = lamda*( (2*y*y)/(y-1) * (2/(y+1))**((y+1)/(y-1)) * (1 - (P_Exit/P_Chamber)**((y-1)/y)) )**(1/2) + Expansion_Ratio*(P_Exit-P_Ambient)/P_Chamber\n",
    "    Isp = c_star*Cf/g_earth # units - seconds\n",
    "    Massflow_Total = Thrust/Isp                        # units - lbs/s\n",
    "    scatter(h, Isp*3.6, color=\"red\",s=1)\n",
    "P_Exit = pressureAtAltitude(2100)\n",
    "for h in range(2100, 45000, 100):\n",
    "    P_Ambient = pressureAtAltitude(h)\n",
    "    Expansion_Ratio = (2/(y+1))**(1/(y-1)) * (P_Chamber/P_Exit)**(1/y) / ( (y+1)/(y-1) * (1 - (P_Exit/P_Chamber)**(1-1/y)) )**.5 # unitless\n",
    "    c_star = (g_earth*y*R*T_Chamber_R/Gas_Molecular_Weight)**(.5)/(y*((2/(y+1))**((y+1)/(y-1)))**.5) # ft/second\n",
    "    lamda = .985\n",
    "    Cf = lamda*( (2*y*y)/(y-1) * (2/(y+1))**((y+1)/(y-1)) * (1 - (P_Exit/P_Chamber)**((y-1)/y)) )**(1/2) + Expansion_Ratio*(P_Exit-P_Ambient)/P_Chamber\n",
    "    Isp = c_star*Cf/g_earth # units - seconds\n",
    "    Massflow_Total = Thrust/Isp                        # units - lbs/s\n",
    "    scatter(h, Isp*3.6,color=\"blue\",s=1)\n",
    "show()\n"
   ]
  }
 ],
 "metadata": {
  "kernelspec": {
   "display_name": "Python 3",
   "language": "python",
   "name": "python3"
  },
  "language_info": {
   "codemirror_mode": {
    "name": "ipython",
    "version": 3
   },
   "file_extension": ".py",
   "mimetype": "text/x-python",
   "name": "python",
   "nbconvert_exporter": "python",
   "pygments_lexer": "ipython3",
   "version": "3.6.0"
  }
 },
 "nbformat": 4,
 "nbformat_minor": 2
}
